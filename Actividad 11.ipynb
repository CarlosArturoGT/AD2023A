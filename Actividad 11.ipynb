{
 "cells": [
  {
   "cell_type": "code",
   "execution_count": 1,
   "id": "44a4d281",
   "metadata": {},
   "outputs": [
    {
     "name": "stdout",
     "output_type": "stream",
     "text": [
      "Hello World\n"
     ]
    }
   ],
   "source": [
    "#Carlos Arturo Gomez Torres \n",
    "#214575081\n",
    "#21-02-2023\n",
    "#Actividad 11 \n",
    "#Analitica de Datos 2023-A LTIN\n",
    "\n",
    "print (\"Hello World\")\n",
    "\n"
   ]
  },
  {
   "cell_type": "code",
   "execution_count": 2,
   "id": "84579938",
   "metadata": {},
   "outputs": [
    {
     "data": {
      "text/plain": [
       "float"
      ]
     },
     "execution_count": 2,
     "metadata": {},
     "output_type": "execute_result"
    }
   ],
   "source": [
    "#la funcion type permite ver el tipo de dato de un objecto \n",
    "type (1)\n",
    "type(2.3)\n",
    "\n",
    "\n"
   ]
  },
  {
   "cell_type": "code",
   "execution_count": 3,
   "id": "3009a1f7",
   "metadata": {},
   "outputs": [
    {
     "data": {
      "text/plain": [
       "int"
      ]
     },
     "execution_count": 3,
     "metadata": {},
     "output_type": "execute_result"
    }
   ],
   "source": [
    "type(1)"
   ]
  },
  {
   "cell_type": "code",
   "execution_count": 4,
   "id": "709e540c",
   "metadata": {},
   "outputs": [
    {
     "data": {
      "text/plain": [
       "3"
      ]
     },
     "execution_count": 4,
     "metadata": {},
     "output_type": "execute_result"
    }
   ],
   "source": [
    "#operaciones \n",
    "2+1 "
   ]
  },
  {
   "cell_type": "code",
   "execution_count": 5,
   "id": "fbf24329",
   "metadata": {},
   "outputs": [
    {
     "data": {
      "text/plain": [
       "9"
      ]
     },
     "execution_count": 5,
     "metadata": {},
     "output_type": "execute_result"
    }
   ],
   "source": [
    "3**2"
   ]
  },
  {
   "cell_type": "code",
   "execution_count": 6,
   "id": "3e6dc142",
   "metadata": {},
   "outputs": [
    {
     "data": {
      "text/plain": [
       "bool"
      ]
     },
     "execution_count": 6,
     "metadata": {},
     "output_type": "execute_result"
    }
   ],
   "source": [
    "type (True)"
   ]
  },
  {
   "cell_type": "code",
   "execution_count": 7,
   "id": "0b798a5a",
   "metadata": {},
   "outputs": [
    {
     "data": {
      "text/plain": [
       "str"
      ]
     },
     "execution_count": 7,
     "metadata": {},
     "output_type": "execute_result"
    }
   ],
   "source": [
    "type(\"Hello wolrd\")"
   ]
  },
  {
   "cell_type": "code",
   "execution_count": 8,
   "id": "3d1ff98f",
   "metadata": {},
   "outputs": [
    {
     "name": "stdout",
     "output_type": "stream",
     "text": [
      "HELLO WORLD\n"
     ]
    }
   ],
   "source": [
    "#cambio minusculas , mayusuculas , etc \n",
    "print (\"hello world\".upper())"
   ]
  },
  {
   "cell_type": "code",
   "execution_count": 9,
   "id": "d7b6584d",
   "metadata": {},
   "outputs": [
    {
     "name": "stdout",
     "output_type": "stream",
     "text": [
      "HELLO WORLD\n",
      "hello world\n",
      "Hello World\n",
      "3\n",
      "hellu wurld\n"
     ]
    }
   ],
   "source": [
    "print (\"hello world\".upper())\n",
    "print (\"hello world\".lower())\n",
    "print (\"hello world\".title())\n",
    "#contar letras \n",
    "print (\"hello world\".count('l'))\n",
    "#reemplazar letras de cadena  de texto \n",
    "print (\"hello world\".replace('o','u') )"
   ]
  },
  {
   "cell_type": "code",
   "execution_count": 10,
   "id": "50c79d0e",
   "metadata": {},
   "outputs": [],
   "source": [
    "message_1 = \"Estoy aprendiendo Python\""
   ]
  },
  {
   "cell_type": "code",
   "execution_count": 11,
   "id": "9dc2a8f0",
   "metadata": {},
   "outputs": [
    {
     "data": {
      "text/plain": [
       "'Estoy aprendiendo Python'"
      ]
     },
     "execution_count": 11,
     "metadata": {},
     "output_type": "execute_result"
    }
   ],
   "source": [
    "message_1 "
   ]
  },
  {
   "cell_type": "code",
   "execution_count": 12,
   "id": "8f801bf5",
   "metadata": {},
   "outputs": [],
   "source": [
    "message_2 = \"y es divertido!!\""
   ]
  },
  {
   "cell_type": "code",
   "execution_count": 13,
   "id": "f1cc60ce",
   "metadata": {},
   "outputs": [
    {
     "data": {
      "text/plain": [
       "'y es divertido!!'"
      ]
     },
     "execution_count": 13,
     "metadata": {},
     "output_type": "execute_result"
    }
   ],
   "source": [
    "message_2 "
   ]
  },
  {
   "cell_type": "code",
   "execution_count": 14,
   "id": "6866abbc",
   "metadata": {},
   "outputs": [
    {
     "data": {
      "text/plain": [
       "'Estoy aprendiendo Pythony es divertido!!'"
      ]
     },
     "execution_count": 14,
     "metadata": {},
     "output_type": "execute_result"
    }
   ],
   "source": [
    "message_1 + message_2"
   ]
  },
  {
   "cell_type": "code",
   "execution_count": 15,
   "id": "26f6f9bd",
   "metadata": {},
   "outputs": [
    {
     "ename": "SyntaxError",
     "evalue": "EOL while scanning string literal (1138497403.py, line 1)",
     "output_type": "error",
     "traceback": [
      "\u001b[1;36m  File \u001b[1;32m\"C:\\Users\\ASUS\\AppData\\Local\\Temp\\ipykernel_13996\\1138497403.py\"\u001b[1;36m, line \u001b[1;32m1\u001b[0m\n\u001b[1;33m    message = f'{message_1} {message_2}\u001b[0m\n\u001b[1;37m                                       ^\u001b[0m\n\u001b[1;31mSyntaxError\u001b[0m\u001b[1;31m:\u001b[0m EOL while scanning string literal\n"
     ]
    }
   ],
   "source": [
    "message = f'{message_1} {message_2}"
   ]
  },
  {
   "cell_type": "code",
   "execution_count": 16,
   "id": "199c677d",
   "metadata": {},
   "outputs": [
    {
     "ename": "SyntaxError",
     "evalue": "invalid syntax (3008116173.py, line 1)",
     "output_type": "error",
     "traceback": [
      "\u001b[1;36m  File \u001b[1;32m\"C:\\Users\\ASUS\\AppData\\Local\\Temp\\ipykernel_13996\\3008116173.py\"\u001b[1;36m, line \u001b[1;32m1\u001b[0m\n\u001b[1;33m    message = f'{message_1} {message_2}' message\u001b[0m\n\u001b[1;37m                                         ^\u001b[0m\n\u001b[1;31mSyntaxError\u001b[0m\u001b[1;31m:\u001b[0m invalid syntax\n"
     ]
    }
   ],
   "source": [
    "message = f'{message_1} {message_2}' message"
   ]
  },
  {
   "cell_type": "code",
   "execution_count": 17,
   "id": "df948d85",
   "metadata": {},
   "outputs": [
    {
     "data": {
      "text/plain": [
       "'Estoy aprendiendo Python y es divertido!!'"
      ]
     },
     "execution_count": 17,
     "metadata": {},
     "output_type": "execute_result"
    }
   ],
   "source": [
    "message = f'{message_1} {message_2}'\n",
    "message"
   ]
  },
  {
   "cell_type": "code",
   "execution_count": 18,
   "id": "06683cf1",
   "metadata": {},
   "outputs": [
    {
     "data": {
      "text/plain": [
       "'India'"
      ]
     },
     "execution_count": 18,
     "metadata": {},
     "output_type": "execute_result"
    }
   ],
   "source": [
    "#listas\n",
    "countries = ['United States ','India','China','Brazil']\n",
    "countries \n",
    "countries [0]\n",
    "countries[1]\n"
   ]
  },
  {
   "cell_type": "code",
   "execution_count": 19,
   "id": "489c65b7",
   "metadata": {},
   "outputs": [
    {
     "data": {
      "text/plain": [
       "'United States '"
      ]
     },
     "execution_count": 19,
     "metadata": {},
     "output_type": "execute_result"
    }
   ],
   "source": [
    "countries [0]"
   ]
  },
  {
   "cell_type": "code",
   "execution_count": 20,
   "id": "3d00018e",
   "metadata": {},
   "outputs": [
    {
     "data": {
      "text/plain": [
       "'Brazil'"
      ]
     },
     "execution_count": 20,
     "metadata": {},
     "output_type": "execute_result"
    }
   ],
   "source": [
    "countries [-1]"
   ]
  },
  {
   "cell_type": "code",
   "execution_count": 21,
   "id": "378d903b",
   "metadata": {},
   "outputs": [
    {
     "data": {
      "text/plain": [
       "'United States '"
      ]
     },
     "execution_count": 21,
     "metadata": {},
     "output_type": "execute_result"
    }
   ],
   "source": [
    "countries [-4]"
   ]
  },
  {
   "cell_type": "code",
   "execution_count": 22,
   "id": "7d277e3a",
   "metadata": {},
   "outputs": [
    {
     "data": {
      "text/plain": [
       "['United States ', 'India', 'China', 'Brazil']"
      ]
     },
     "execution_count": 22,
     "metadata": {},
     "output_type": "execute_result"
    }
   ],
   "source": [
    "countries "
   ]
  },
  {
   "cell_type": "code",
   "execution_count": 23,
   "id": "21777a68",
   "metadata": {},
   "outputs": [
    {
     "data": {
      "text/plain": [
       "['United States ', 'India', 'China']"
      ]
     },
     "execution_count": 23,
     "metadata": {},
     "output_type": "execute_result"
    }
   ],
   "source": [
    "countries [0:3]"
   ]
  },
  {
   "cell_type": "code",
   "execution_count": 24,
   "id": "be00680f",
   "metadata": {},
   "outputs": [
    {
     "data": {
      "text/plain": [
       "['United States ', 'India']"
      ]
     },
     "execution_count": 24,
     "metadata": {},
     "output_type": "execute_result"
    }
   ],
   "source": [
    "countries [:2]"
   ]
  },
  {
   "cell_type": "code",
   "execution_count": 25,
   "id": "4bf5bdb2",
   "metadata": {},
   "outputs": [
    {
     "data": {
      "text/plain": [
       "['United States ', 'India', 'China', 'Brazil']"
      ]
     },
     "execution_count": 25,
     "metadata": {},
     "output_type": "execute_result"
    }
   ],
   "source": [
    "#operaciones y modelos \n",
    "countries"
   ]
  },
  {
   "cell_type": "code",
   "execution_count": 26,
   "id": "8d036f87",
   "metadata": {},
   "outputs": [],
   "source": [
    "countries.append('Canada')"
   ]
  },
  {
   "cell_type": "code",
   "execution_count": 27,
   "id": "b7b43ca9",
   "metadata": {},
   "outputs": [
    {
     "data": {
      "text/plain": [
       "['United States ', 'India', 'China', 'Brazil', 'Canada']"
      ]
     },
     "execution_count": 27,
     "metadata": {},
     "output_type": "execute_result"
    }
   ],
   "source": [
    "countries"
   ]
  },
  {
   "cell_type": "code",
   "execution_count": 28,
   "id": "ab82ae46",
   "metadata": {},
   "outputs": [],
   "source": [
    "countries.insert(0,'Argentina')"
   ]
  },
  {
   "cell_type": "code",
   "execution_count": 29,
   "id": "63ed2827",
   "metadata": {},
   "outputs": [
    {
     "data": {
      "text/plain": [
       "['Argentina', 'United States ', 'India', 'China', 'Brazil', 'Canada']"
      ]
     },
     "execution_count": 29,
     "metadata": {},
     "output_type": "execute_result"
    }
   ],
   "source": [
    "countries"
   ]
  },
  {
   "cell_type": "code",
   "execution_count": 30,
   "id": "59967857",
   "metadata": {},
   "outputs": [],
   "source": [
    "countries_2 = ['UK','Alemania', 'Australia']"
   ]
  },
  {
   "cell_type": "code",
   "execution_count": 31,
   "id": "1cf6c363",
   "metadata": {},
   "outputs": [
    {
     "ename": "NameError",
     "evalue": "name 'countires_2' is not defined",
     "output_type": "error",
     "traceback": [
      "\u001b[1;31m---------------------------------------------------------------------------\u001b[0m",
      "\u001b[1;31mNameError\u001b[0m                                 Traceback (most recent call last)",
      "\u001b[1;32m~\\AppData\\Local\\Temp\\ipykernel_13996\\2681327172.py\u001b[0m in \u001b[0;36m<module>\u001b[1;34m\u001b[0m\n\u001b[1;32m----> 1\u001b[1;33m \u001b[0mcountries\u001b[0m \u001b[1;33m+\u001b[0m \u001b[0mcountires_2\u001b[0m\u001b[1;33m\u001b[0m\u001b[1;33m\u001b[0m\u001b[0m\n\u001b[0m",
      "\u001b[1;31mNameError\u001b[0m: name 'countires_2' is not defined"
     ]
    }
   ],
   "source": [
    "countries + countires_2 "
   ]
  },
  {
   "cell_type": "code",
   "execution_count": 32,
   "id": "d3d1d872",
   "metadata": {},
   "outputs": [
    {
     "data": {
      "text/plain": [
       "['Argentina',\n",
       " 'United States ',\n",
       " 'India',\n",
       " 'China',\n",
       " 'Brazil',\n",
       " 'Canada',\n",
       " 'UK',\n",
       " 'Alemania',\n",
       " 'Australia']"
      ]
     },
     "execution_count": 32,
     "metadata": {},
     "output_type": "execute_result"
    }
   ],
   "source": [
    "countries + countries_2"
   ]
  },
  {
   "cell_type": "code",
   "execution_count": 33,
   "id": "652912c3",
   "metadata": {},
   "outputs": [],
   "source": [
    "nueva_lista = [countries, countries_2]"
   ]
  },
  {
   "cell_type": "code",
   "execution_count": 34,
   "id": "6257a129",
   "metadata": {},
   "outputs": [
    {
     "data": {
      "text/plain": [
       "[['Argentina', 'United States ', 'India', 'China', 'Brazil', 'Canada'],\n",
       " ['UK', 'Alemania', 'Australia']]"
      ]
     },
     "execution_count": 34,
     "metadata": {},
     "output_type": "execute_result"
    }
   ],
   "source": [
    "nueva_lista"
   ]
  },
  {
   "cell_type": "code",
   "execution_count": 35,
   "id": "43d5c055",
   "metadata": {},
   "outputs": [],
   "source": [
    "countries.remove('Canada')"
   ]
  },
  {
   "cell_type": "code",
   "execution_count": 36,
   "id": "5ec1077e",
   "metadata": {},
   "outputs": [
    {
     "data": {
      "text/plain": [
       "['Argentina', 'United States ', 'India', 'China', 'Brazil']"
      ]
     },
     "execution_count": 36,
     "metadata": {},
     "output_type": "execute_result"
    }
   ],
   "source": [
    "countries"
   ]
  },
  {
   "cell_type": "code",
   "execution_count": 37,
   "id": "7b0931f8",
   "metadata": {},
   "outputs": [
    {
     "data": {
      "text/plain": [
       "'Argentina'"
      ]
     },
     "execution_count": 37,
     "metadata": {},
     "output_type": "execute_result"
    }
   ],
   "source": [
    "countries.pop(0)"
   ]
  },
  {
   "cell_type": "code",
   "execution_count": 38,
   "id": "f1afea53",
   "metadata": {},
   "outputs": [
    {
     "data": {
      "text/plain": [
       "['United States ', 'India', 'China', 'Brazil']"
      ]
     },
     "execution_count": 38,
     "metadata": {},
     "output_type": "execute_result"
    }
   ],
   "source": [
    "countries"
   ]
  },
  {
   "cell_type": "code",
   "execution_count": 39,
   "id": "172f9faa",
   "metadata": {},
   "outputs": [],
   "source": [
    "del countries[0]"
   ]
  },
  {
   "cell_type": "code",
   "execution_count": 40,
   "id": "923d0290",
   "metadata": {},
   "outputs": [
    {
     "data": {
      "text/plain": [
       "['India', 'China', 'Brazil']"
      ]
     },
     "execution_count": 40,
     "metadata": {},
     "output_type": "execute_result"
    }
   ],
   "source": [
    "countries"
   ]
  },
  {
   "cell_type": "code",
   "execution_count": 41,
   "id": "8519ba06",
   "metadata": {},
   "outputs": [],
   "source": [
    "#ordenar una lista \n",
    "numbers = [4,3,10,7,1,2]"
   ]
  },
  {
   "cell_type": "code",
   "execution_count": 42,
   "id": "147a1315",
   "metadata": {},
   "outputs": [
    {
     "data": {
      "text/plain": [
       "[4, 3, 10, 7, 1, 2]"
      ]
     },
     "execution_count": 42,
     "metadata": {},
     "output_type": "execute_result"
    }
   ],
   "source": [
    "numbers"
   ]
  },
  {
   "cell_type": "code",
   "execution_count": 43,
   "id": "9b82845a",
   "metadata": {},
   "outputs": [],
   "source": [
    "numbers.sort()"
   ]
  },
  {
   "cell_type": "code",
   "execution_count": 44,
   "id": "1754d98a",
   "metadata": {},
   "outputs": [
    {
     "data": {
      "text/plain": [
       "[1, 2, 3, 4, 7, 10]"
      ]
     },
     "execution_count": 44,
     "metadata": {},
     "output_type": "execute_result"
    }
   ],
   "source": [
    "numbers"
   ]
  },
  {
   "cell_type": "code",
   "execution_count": 45,
   "id": "26b79b62",
   "metadata": {},
   "outputs": [],
   "source": [
    "numbers.sort(reverse=True)"
   ]
  },
  {
   "cell_type": "code",
   "execution_count": 46,
   "id": "1c80171c",
   "metadata": {},
   "outputs": [
    {
     "data": {
      "text/plain": [
       "[10, 7, 4, 3, 2, 1]"
      ]
     },
     "execution_count": 46,
     "metadata": {},
     "output_type": "execute_result"
    }
   ],
   "source": [
    "numbers"
   ]
  },
  {
   "cell_type": "code",
   "execution_count": 47,
   "id": "f904b963",
   "metadata": {},
   "outputs": [],
   "source": [
    "numbers[0] = 1000"
   ]
  },
  {
   "cell_type": "code",
   "execution_count": 48,
   "id": "82417215",
   "metadata": {},
   "outputs": [
    {
     "data": {
      "text/plain": [
       "[1000, 7, 4, 3, 2, 1]"
      ]
     },
     "execution_count": 48,
     "metadata": {},
     "output_type": "execute_result"
    }
   ],
   "source": [
    "numbers"
   ]
  },
  {
   "cell_type": "code",
   "execution_count": 49,
   "id": "8f58200a",
   "metadata": {},
   "outputs": [],
   "source": [
    "#Copiar una Lista \n",
    "countries.append('Argentina')"
   ]
  },
  {
   "cell_type": "code",
   "execution_count": 50,
   "id": "4f1445c5",
   "metadata": {},
   "outputs": [
    {
     "data": {
      "text/plain": [
       "['India', 'China', 'Brazil', 'Argentina']"
      ]
     },
     "execution_count": 50,
     "metadata": {},
     "output_type": "execute_result"
    }
   ],
   "source": [
    "countries"
   ]
  },
  {
   "cell_type": "code",
   "execution_count": 51,
   "id": "3ef9eba6",
   "metadata": {},
   "outputs": [],
   "source": [
    "nueva_lista_3 = countries"
   ]
  },
  {
   "cell_type": "code",
   "execution_count": 52,
   "id": "f67f5906",
   "metadata": {},
   "outputs": [
    {
     "data": {
      "text/plain": [
       "['India', 'China', 'Brazil', 'Argentina']"
      ]
     },
     "execution_count": 52,
     "metadata": {},
     "output_type": "execute_result"
    }
   ],
   "source": [
    "nueva_lista_3"
   ]
  },
  {
   "cell_type": "code",
   "execution_count": 53,
   "id": "86d4eed7",
   "metadata": {},
   "outputs": [],
   "source": [
    "nueva_lista = countries.copy()"
   ]
  },
  {
   "cell_type": "code",
   "execution_count": 54,
   "id": "5bcf61eb",
   "metadata": {},
   "outputs": [
    {
     "data": {
      "text/plain": [
       "['India', 'China', 'Brazil', 'Argentina']"
      ]
     },
     "execution_count": 54,
     "metadata": {},
     "output_type": "execute_result"
    }
   ],
   "source": [
    "nueva_lista"
   ]
  },
  {
   "cell_type": "code",
   "execution_count": 55,
   "id": "87b4f764",
   "metadata": {},
   "outputs": [],
   "source": [
    "nueva_lista_2 = countries[:]"
   ]
  },
  {
   "cell_type": "code",
   "execution_count": 56,
   "id": "d45b427f",
   "metadata": {},
   "outputs": [
    {
     "data": {
      "text/plain": [
       "['India', 'China', 'Brazil', 'Argentina']"
      ]
     },
     "execution_count": 56,
     "metadata": {},
     "output_type": "execute_result"
    }
   ],
   "source": [
    "nueva_lista_2"
   ]
  },
  {
   "cell_type": "code",
   "execution_count": 57,
   "id": "65e06db1",
   "metadata": {},
   "outputs": [],
   "source": [
    "mi_diccionario = {'key1':'value1','key2':'value2' }"
   ]
  },
  {
   "cell_type": "code",
   "execution_count": 58,
   "id": "fe388fdf",
   "metadata": {},
   "outputs": [],
   "source": [
    "my_data ={'nombre':'Frank','edad':26}\n"
   ]
  },
  {
   "cell_type": "code",
   "execution_count": 59,
   "id": "fb300848",
   "metadata": {},
   "outputs": [
    {
     "data": {
      "text/plain": [
       "{'nombre': 'Frank', 'edad': 26}"
      ]
     },
     "execution_count": 59,
     "metadata": {},
     "output_type": "execute_result"
    }
   ],
   "source": [
    "my_data"
   ]
  },
  {
   "cell_type": "code",
   "execution_count": 60,
   "id": "98584f25",
   "metadata": {},
   "outputs": [
    {
     "data": {
      "text/plain": [
       "'Frank'"
      ]
     },
     "execution_count": 60,
     "metadata": {},
     "output_type": "execute_result"
    }
   ],
   "source": [
    "my_data['nombre']"
   ]
  },
  {
   "cell_type": "code",
   "execution_count": 61,
   "id": "b212ed8b",
   "metadata": {},
   "outputs": [
    {
     "data": {
      "text/plain": [
       "dict_keys(['nombre', 'edad'])"
      ]
     },
     "execution_count": 61,
     "metadata": {},
     "output_type": "execute_result"
    }
   ],
   "source": [
    "my_data.keys()"
   ]
  },
  {
   "cell_type": "code",
   "execution_count": 62,
   "id": "d3639f84",
   "metadata": {},
   "outputs": [
    {
     "data": {
      "text/plain": [
       "dict_values(['Frank', 26])"
      ]
     },
     "execution_count": 62,
     "metadata": {},
     "output_type": "execute_result"
    }
   ],
   "source": [
    "my_data.values()"
   ]
  },
  {
   "cell_type": "code",
   "execution_count": 63,
   "id": "1d515575",
   "metadata": {},
   "outputs": [
    {
     "data": {
      "text/plain": [
       "dict_items([('nombre', 'Frank'), ('edad', 26)])"
      ]
     },
     "execution_count": 63,
     "metadata": {},
     "output_type": "execute_result"
    }
   ],
   "source": [
    "my_data.items()"
   ]
  },
  {
   "cell_type": "code",
   "execution_count": 64,
   "id": "ca23cc15",
   "metadata": {},
   "outputs": [],
   "source": [
    "#Agregar/ Actualizar elementos \n",
    "my_data = {'nombre':'Frank','edad':26}"
   ]
  },
  {
   "cell_type": "code",
   "execution_count": 65,
   "id": "c8760fdf",
   "metadata": {},
   "outputs": [],
   "source": [
    "my_data ['estatura'] = 1.7"
   ]
  },
  {
   "cell_type": "code",
   "execution_count": 66,
   "id": "64c8d980",
   "metadata": {},
   "outputs": [
    {
     "data": {
      "text/plain": [
       "{'nombre': 'Frank', 'edad': 26, 'estatura': 1.7}"
      ]
     },
     "execution_count": 66,
     "metadata": {},
     "output_type": "execute_result"
    }
   ],
   "source": [
    "my_data"
   ]
  },
  {
   "cell_type": "code",
   "execution_count": 67,
   "id": "e4d8c852",
   "metadata": {},
   "outputs": [],
   "source": [
    "my_data.update({'estatura':1.9,'lenguages':['Inlges', 'Español']})"
   ]
  },
  {
   "cell_type": "code",
   "execution_count": 68,
   "id": "c8778234",
   "metadata": {},
   "outputs": [
    {
     "data": {
      "text/plain": [
       "{'nombre': 'Frank',\n",
       " 'edad': 26,\n",
       " 'estatura': 1.9,\n",
       " 'lenguages': ['Inlges', 'Español']}"
      ]
     },
     "execution_count": 68,
     "metadata": {},
     "output_type": "execute_result"
    }
   ],
   "source": [
    "my_data"
   ]
  },
  {
   "cell_type": "code",
   "execution_count": 69,
   "id": "04652614",
   "metadata": {},
   "outputs": [],
   "source": [
    "#copiar un diccionario \n",
    "nuevo_diccionario = my_data.copy()"
   ]
  },
  {
   "cell_type": "code",
   "execution_count": 70,
   "id": "ac3f74b7",
   "metadata": {},
   "outputs": [
    {
     "data": {
      "text/plain": [
       "{'nombre': 'Frank',\n",
       " 'edad': 26,\n",
       " 'estatura': 1.9,\n",
       " 'lenguages': ['Inlges', 'Español']}"
      ]
     },
     "execution_count": 70,
     "metadata": {},
     "output_type": "execute_result"
    }
   ],
   "source": [
    "nuevo_diccionario"
   ]
  },
  {
   "cell_type": "code",
   "execution_count": 71,
   "id": "60a3a532",
   "metadata": {},
   "outputs": [
    {
     "data": {
      "text/plain": [
       "{'nombre': 'Frank',\n",
       " 'edad': 26,\n",
       " 'estatura': 1.9,\n",
       " 'lenguages': ['Inlges', 'Español']}"
      ]
     },
     "execution_count": 71,
     "metadata": {},
     "output_type": "execute_result"
    }
   ],
   "source": [
    "#Eliminar Elementos\n",
    "my_data"
   ]
  },
  {
   "cell_type": "code",
   "execution_count": 72,
   "id": "19ca067c",
   "metadata": {},
   "outputs": [
    {
     "data": {
      "text/plain": [
       "1.9"
      ]
     },
     "execution_count": 72,
     "metadata": {},
     "output_type": "execute_result"
    }
   ],
   "source": [
    "my_data.pop('estatura')"
   ]
  },
  {
   "cell_type": "code",
   "execution_count": 73,
   "id": "e78cd2a2",
   "metadata": {},
   "outputs": [
    {
     "data": {
      "text/plain": [
       "{'nombre': 'Frank', 'edad': 26, 'lenguages': ['Inlges', 'Español']}"
      ]
     },
     "execution_count": 73,
     "metadata": {},
     "output_type": "execute_result"
    }
   ],
   "source": [
    "my_data "
   ]
  },
  {
   "cell_type": "code",
   "execution_count": 74,
   "id": "2c45d0f3",
   "metadata": {},
   "outputs": [
    {
     "ename": "KeyError",
     "evalue": "'lenguaje'",
     "output_type": "error",
     "traceback": [
      "\u001b[1;31m---------------------------------------------------------------------------\u001b[0m",
      "\u001b[1;31mKeyError\u001b[0m                                  Traceback (most recent call last)",
      "\u001b[1;32m~\\AppData\\Local\\Temp\\ipykernel_13996\\2518790378.py\u001b[0m in \u001b[0;36m<module>\u001b[1;34m\u001b[0m\n\u001b[1;32m----> 1\u001b[1;33m \u001b[1;32mdel\u001b[0m \u001b[0mmy_data\u001b[0m\u001b[1;33m[\u001b[0m\u001b[1;34m'lenguaje'\u001b[0m\u001b[1;33m]\u001b[0m\u001b[1;33m\u001b[0m\u001b[1;33m\u001b[0m\u001b[0m\n\u001b[0m",
      "\u001b[1;31mKeyError\u001b[0m: 'lenguaje'"
     ]
    }
   ],
   "source": [
    "del my_data['lenguaje']"
   ]
  },
  {
   "cell_type": "code",
   "execution_count": 75,
   "id": "f74e758b",
   "metadata": {},
   "outputs": [],
   "source": [
    "del my_data['lenguages']"
   ]
  },
  {
   "cell_type": "code",
   "execution_count": 76,
   "id": "c38632b1",
   "metadata": {},
   "outputs": [
    {
     "data": {
      "text/plain": [
       "{'nombre': 'Frank', 'edad': 26}"
      ]
     },
     "execution_count": 76,
     "metadata": {},
     "output_type": "execute_result"
    }
   ],
   "source": [
    "my_data"
   ]
  },
  {
   "cell_type": "code",
   "execution_count": 77,
   "id": "61459e74",
   "metadata": {},
   "outputs": [],
   "source": [
    "my_data.clear()"
   ]
  },
  {
   "cell_type": "code",
   "execution_count": 78,
   "id": "80e00569",
   "metadata": {},
   "outputs": [
    {
     "data": {
      "text/plain": [
       "{}"
      ]
     },
     "execution_count": 78,
     "metadata": {},
     "output_type": "execute_result"
    }
   ],
   "source": [
    "my_data"
   ]
  },
  {
   "cell_type": "code",
   "execution_count": 83,
   "id": "ecb67abe",
   "metadata": {},
   "outputs": [
    {
     "ename": "SyntaxError",
     "evalue": "invalid syntax (623051817.py, line 7)",
     "output_type": "error",
     "traceback": [
      "\u001b[1;36m  File \u001b[1;32m\"C:\\Users\\ASUS\\AppData\\Local\\Temp\\ipykernel_13996\\623051817.py\"\u001b[1;36m, line \u001b[1;32m7\u001b[0m\n\u001b[1;33m    else\u001b[0m\n\u001b[1;37m         ^\u001b[0m\n\u001b[1;31mSyntaxError\u001b[0m\u001b[1;31m:\u001b[0m invalid syntax\n"
     ]
    }
   ],
   "source": [
    "#codificacion if \n",
    "edad = 24 \n",
    "if edad >=18:\n",
    "    print (\"Eres mayor de edad \")\n",
    "elif edad<=13:\n",
    "        print (\"Eres un adolecente\")\n",
    "else \n",
    "     print(\"Eres un niño\")\n",
    "    "
   ]
  },
  {
   "cell_type": "code",
   "execution_count": 84,
   "id": "e3fe04e5",
   "metadata": {},
   "outputs": [],
   "source": [
    "countries = ['United States', 'india', 'China', 'Brazil']"
   ]
  },
  {
   "cell_type": "code",
   "execution_count": 86,
   "id": "a36b79cb",
   "metadata": {},
   "outputs": [
    {
     "name": "stdout",
     "output_type": "stream",
     "text": [
      "pais No esta en la lista \n"
     ]
    }
   ],
   "source": [
    "if \"colombia\" in countries:\n",
    "    print(\"pais esta en la lista\")\n",
    "else:\n",
    "    print(\"pais No esta en la lista \")"
   ]
  },
  {
   "cell_type": "code",
   "execution_count": 87,
   "id": "068fb5da",
   "metadata": {},
   "outputs": [
    {
     "name": "stdout",
     "output_type": "stream",
     "text": [
      "United States\n",
      "india\n",
      "China\n",
      "Brazil\n"
     ]
    }
   ],
   "source": [
    "#For loop (bucle for)\n",
    "\n",
    "for pais in countries:\n",
    "    print(pais)"
   ]
  },
  {
   "cell_type": "code",
   "execution_count": 88,
   "id": "7a2e1d67",
   "metadata": {},
   "outputs": [
    {
     "ename": "IndentationError",
     "evalue": "expected an indented block (2851869027.py, line 1)",
     "output_type": "error",
     "traceback": [
      "\u001b[1;36m  File \u001b[1;32m\"C:\\Users\\ASUS\\AppData\\Local\\Temp\\ipykernel_13996\\2851869027.py\"\u001b[1;36m, line \u001b[1;32m1\u001b[0m\n\u001b[1;33m    for pais in countries:\u001b[0m\n\u001b[1;37m                          ^\u001b[0m\n\u001b[1;31mIndentationError\u001b[0m\u001b[1;31m:\u001b[0m expected an indented block\n"
     ]
    }
   ],
   "source": [
    "for pais in countries:"
   ]
  },
  {
   "cell_type": "code",
   "execution_count": 89,
   "id": "870ee57f",
   "metadata": {},
   "outputs": [
    {
     "name": "stdout",
     "output_type": "stream",
     "text": [
      "United States\n"
     ]
    }
   ],
   "source": [
    "for pais in countries: \n",
    "    if pais == \"United States\":\n",
    "        print(pais)"
   ]
  },
  {
   "cell_type": "code",
   "execution_count": 90,
   "id": "0a2ce3e1",
   "metadata": {},
   "outputs": [
    {
     "name": "stdout",
     "output_type": "stream",
     "text": [
      "0\n",
      "United States\n",
      "1\n",
      "india\n",
      "2\n",
      "China\n",
      "3\n",
      "Brazil\n"
     ]
    }
   ],
   "source": [
    "for numero, pais in enumerate(countries):\n",
    "    print(numero)\n",
    "    print(pais)"
   ]
  },
  {
   "cell_type": "code",
   "execution_count": 91,
   "id": "a10fcc61",
   "metadata": {},
   "outputs": [],
   "source": [
    "my_data = {'nombre': 'Frank', 'edad':26}"
   ]
  },
  {
   "cell_type": "code",
   "execution_count": 92,
   "id": "ea3579da",
   "metadata": {},
   "outputs": [
    {
     "data": {
      "text/plain": [
       "{'nombre': 'Frank', 'edad': 26}"
      ]
     },
     "execution_count": 92,
     "metadata": {},
     "output_type": "execute_result"
    }
   ],
   "source": [
    "my_data"
   ]
  },
  {
   "cell_type": "code",
   "execution_count": 93,
   "id": "437322f5",
   "metadata": {},
   "outputs": [
    {
     "data": {
      "text/plain": [
       "dict_items([('nombre', 'Frank'), ('edad', 26)])"
      ]
     },
     "execution_count": 93,
     "metadata": {},
     "output_type": "execute_result"
    }
   ],
   "source": [
    "my_data.items()"
   ]
  },
  {
   "cell_type": "code",
   "execution_count": 94,
   "id": "ffcff852",
   "metadata": {},
   "outputs": [
    {
     "ename": "AttributeError",
     "evalue": "'dict' object has no attribute 'item'",
     "output_type": "error",
     "traceback": [
      "\u001b[1;31m---------------------------------------------------------------------------\u001b[0m",
      "\u001b[1;31mAttributeError\u001b[0m                            Traceback (most recent call last)",
      "\u001b[1;32m~\\AppData\\Local\\Temp\\ipykernel_13996\\2107793334.py\u001b[0m in \u001b[0;36m<module>\u001b[1;34m\u001b[0m\n\u001b[1;32m----> 1\u001b[1;33m \u001b[1;32mfor\u001b[0m \u001b[0mkey\u001b[0m\u001b[1;33m,\u001b[0m \u001b[0mvalue\u001b[0m \u001b[1;32min\u001b[0m \u001b[0mmy_data\u001b[0m\u001b[1;33m.\u001b[0m\u001b[0mitem\u001b[0m\u001b[1;33m(\u001b[0m\u001b[1;33m)\u001b[0m\u001b[1;33m:\u001b[0m\u001b[1;33m\u001b[0m\u001b[1;33m\u001b[0m\u001b[0m\n\u001b[0m\u001b[0;32m      2\u001b[0m     \u001b[0mprint\u001b[0m\u001b[1;33m(\u001b[0m\u001b[0mkey\u001b[0m\u001b[1;33m)\u001b[0m\u001b[1;33m\u001b[0m\u001b[1;33m\u001b[0m\u001b[0m\n\u001b[0;32m      3\u001b[0m     \u001b[0mprint\u001b[0m\u001b[1;33m(\u001b[0m\u001b[0mvalue\u001b[0m\u001b[1;33m)\u001b[0m\u001b[1;33m\u001b[0m\u001b[1;33m\u001b[0m\u001b[0m\n",
      "\u001b[1;31mAttributeError\u001b[0m: 'dict' object has no attribute 'item'"
     ]
    }
   ],
   "source": [
    "for key, value in my_data.item():\n",
    "    print(key)\n",
    "    print(value)"
   ]
  },
  {
   "cell_type": "code",
   "execution_count": 95,
   "id": "f88e8965",
   "metadata": {},
   "outputs": [
    {
     "name": "stdout",
     "output_type": "stream",
     "text": [
      "nombre\n",
      "Frank\n",
      "edad\n",
      "26\n"
     ]
    }
   ],
   "source": [
    "for key, value in my_data.items():\n",
    "    print(key)\n",
    "    print(value)"
   ]
  },
  {
   "cell_type": "code",
   "execution_count": 96,
   "id": "d76f8e5f",
   "metadata": {},
   "outputs": [
    {
     "data": {
      "text/plain": [
       "['United States', 'india', 'China', 'Brazil']"
      ]
     },
     "execution_count": 96,
     "metadata": {},
     "output_type": "execute_result"
    }
   ],
   "source": [
    "#funciones funciones pre-fabricadas\n",
    "\n",
    "countries"
   ]
  },
  {
   "cell_type": "code",
   "execution_count": 97,
   "id": "89739a20",
   "metadata": {},
   "outputs": [
    {
     "ename": "SyntaxError",
     "evalue": "invalid syntax (1429554538.py, line 1)",
     "output_type": "error",
     "traceback": [
      "\u001b[1;36m  File \u001b[1;32m\"C:\\Users\\ASUS\\AppData\\Local\\Temp\\ipykernel_13996\\1429554538.py\"\u001b[1;36m, line \u001b[1;32m1\u001b[0m\n\u001b[1;33m    len countries\u001b[0m\n\u001b[1;37m        ^\u001b[0m\n\u001b[1;31mSyntaxError\u001b[0m\u001b[1;31m:\u001b[0m invalid syntax\n"
     ]
    }
   ],
   "source": [
    "en countries"
   ]
  },
  {
   "cell_type": "code",
   "execution_count": 1,
   "id": "a0e66bb4",
   "metadata": {},
   "outputs": [
    {
     "data": {
      "text/plain": [
       "83"
      ]
     },
     "execution_count": 1,
     "metadata": {},
     "output_type": "execute_result"
    }
   ],
   "source": [
    "max ([16,83,32,1,10])"
   ]
  },
  {
   "cell_type": "code",
   "execution_count": 2,
   "id": "5a277105",
   "metadata": {},
   "outputs": [
    {
     "data": {
      "text/plain": [
       "1"
      ]
     },
     "execution_count": 2,
     "metadata": {},
     "output_type": "execute_result"
    }
   ],
   "source": [
    "min([16,83,32,1,10])"
   ]
  },
  {
   "cell_type": "code",
   "execution_count": 3,
   "id": "99128877",
   "metadata": {},
   "outputs": [
    {
     "ename": "NameError",
     "evalue": "name 'countries' is not defined",
     "output_type": "error",
     "traceback": [
      "\u001b[1;31m---------------------------------------------------------------------------\u001b[0m",
      "\u001b[1;31mNameError\u001b[0m                                 Traceback (most recent call last)",
      "\u001b[1;32m~\\AppData\\Local\\Temp\\ipykernel_10636\\4264391836.py\u001b[0m in \u001b[0;36m<module>\u001b[1;34m\u001b[0m\n\u001b[1;32m----> 1\u001b[1;33m \u001b[0mtype\u001b[0m\u001b[1;33m(\u001b[0m\u001b[0mcountries\u001b[0m\u001b[1;33m)\u001b[0m\u001b[1;33m\u001b[0m\u001b[1;33m\u001b[0m\u001b[0m\n\u001b[0m",
      "\u001b[1;31mNameError\u001b[0m: name 'countries' is not defined"
     ]
    }
   ],
   "source": [
    "type(countries)"
   ]
  },
  {
   "cell_type": "code",
   "execution_count": 4,
   "id": "581fa0af",
   "metadata": {},
   "outputs": [
    {
     "ename": "NameError",
     "evalue": "name 'countries' is not defined",
     "output_type": "error",
     "traceback": [
      "\u001b[1;31m---------------------------------------------------------------------------\u001b[0m",
      "\u001b[1;31mNameError\u001b[0m                                 Traceback (most recent call last)",
      "\u001b[1;32m~\\AppData\\Local\\Temp\\ipykernel_10636\\4264391836.py\u001b[0m in \u001b[0;36m<module>\u001b[1;34m\u001b[0m\n\u001b[1;32m----> 1\u001b[1;33m \u001b[0mtype\u001b[0m\u001b[1;33m(\u001b[0m\u001b[0mcountries\u001b[0m\u001b[1;33m)\u001b[0m\u001b[1;33m\u001b[0m\u001b[1;33m\u001b[0m\u001b[0m\n\u001b[0m",
      "\u001b[1;31mNameError\u001b[0m: name 'countries' is not defined"
     ]
    }
   ],
   "source": [
    "type(countries)"
   ]
  },
  {
   "cell_type": "code",
   "execution_count": 5,
   "id": "e941685f",
   "metadata": {},
   "outputs": [
    {
     "ename": "NameError",
     "evalue": "name 'countries' is not defined",
     "output_type": "error",
     "traceback": [
      "\u001b[1;31m---------------------------------------------------------------------------\u001b[0m",
      "\u001b[1;31mNameError\u001b[0m                                 Traceback (most recent call last)",
      "\u001b[1;32m~\\AppData\\Local\\Temp\\ipykernel_10636\\1508753200.py\u001b[0m in \u001b[0;36m<module>\u001b[1;34m\u001b[0m\n\u001b[1;32m----> 1\u001b[1;33m \u001b[0mtype\u001b[0m \u001b[1;33m(\u001b[0m\u001b[0mcountries\u001b[0m\u001b[1;33m)\u001b[0m\u001b[1;33m\u001b[0m\u001b[1;33m\u001b[0m\u001b[0m\n\u001b[0m",
      "\u001b[1;31mNameError\u001b[0m: name 'countries' is not defined"
     ]
    }
   ],
   "source": [
    "type (countries)"
   ]
  },
  {
   "cell_type": "code",
   "execution_count": 6,
   "id": "b2634f15",
   "metadata": {},
   "outputs": [
    {
     "ename": "NameError",
     "evalue": "name 'countries' is not defined",
     "output_type": "error",
     "traceback": [
      "\u001b[1;31m---------------------------------------------------------------------------\u001b[0m",
      "\u001b[1;31mNameError\u001b[0m                                 Traceback (most recent call last)",
      "\u001b[1;32m~\\AppData\\Local\\Temp\\ipykernel_10636\\1508753200.py\u001b[0m in \u001b[0;36m<module>\u001b[1;34m\u001b[0m\n\u001b[1;32m----> 1\u001b[1;33m \u001b[0mtype\u001b[0m \u001b[1;33m(\u001b[0m\u001b[0mcountries\u001b[0m\u001b[1;33m)\u001b[0m\u001b[1;33m\u001b[0m\u001b[1;33m\u001b[0m\u001b[0m\n\u001b[0m",
      "\u001b[1;31mNameError\u001b[0m: name 'countries' is not defined"
     ]
    }
   ],
   "source": [
    "type (countries)"
   ]
  },
  {
   "cell_type": "raw",
   "id": "adf43777",
   "metadata": {},
   "source": [
    "type(my_data)"
   ]
  },
  {
   "cell_type": "code",
   "execution_count": 8,
   "id": "8559cb61",
   "metadata": {},
   "outputs": [
    {
     "data": {
      "text/plain": [
       "2.33"
      ]
     },
     "execution_count": 8,
     "metadata": {},
     "output_type": "execute_result"
    }
   ],
   "source": [
    "round(2.333, 2)"
   ]
  },
  {
   "cell_type": "code",
   "execution_count": 9,
   "id": "d7b791b4",
   "metadata": {},
   "outputs": [
    {
     "name": "stdout",
     "output_type": "stream",
     "text": [
      "1\n",
      "3\n",
      "5\n",
      "7\n",
      "9\n"
     ]
    }
   ],
   "source": [
    "for i in range(1, 10, 2):\n",
    "    print(i)"
   ]
  },
  {
   "cell_type": "code",
   "execution_count": 12,
   "id": "fe75a428",
   "metadata": {},
   "outputs": [],
   "source": [
    "def sumar_numeros(a,b):\n",
    "    sumar_final = a + b \n",
    "    return sumar_final"
   ]
  },
  {
   "cell_type": "code",
   "execution_count": 11,
   "id": "ca013814",
   "metadata": {},
   "outputs": [
    {
     "ename": "NameError",
     "evalue": "name 'suma_final' is not defined",
     "output_type": "error",
     "traceback": [
      "\u001b[1;31m---------------------------------------------------------------------------\u001b[0m",
      "\u001b[1;31mNameError\u001b[0m                                 Traceback (most recent call last)",
      "\u001b[1;32m~\\AppData\\Local\\Temp\\ipykernel_10636\\301548059.py\u001b[0m in \u001b[0;36m<module>\u001b[1;34m\u001b[0m\n\u001b[1;32m----> 1\u001b[1;33m \u001b[0msumar_numeros\u001b[0m\u001b[1;33m(\u001b[0m\u001b[1;36m10\u001b[0m\u001b[1;33m,\u001b[0m \u001b[1;36m5\u001b[0m \u001b[1;33m)\u001b[0m\u001b[1;33m\u001b[0m\u001b[1;33m\u001b[0m\u001b[0m\n\u001b[0m",
      "\u001b[1;32m~\\AppData\\Local\\Temp\\ipykernel_10636\\3524029416.py\u001b[0m in \u001b[0;36msumar_numeros\u001b[1;34m(a, b)\u001b[0m\n\u001b[0;32m      1\u001b[0m \u001b[1;32mdef\u001b[0m \u001b[0msumar_numeros\u001b[0m\u001b[1;33m(\u001b[0m\u001b[0ma\u001b[0m\u001b[1;33m,\u001b[0m\u001b[0mb\u001b[0m\u001b[1;33m)\u001b[0m\u001b[1;33m:\u001b[0m\u001b[1;33m\u001b[0m\u001b[1;33m\u001b[0m\u001b[0m\n\u001b[0;32m      2\u001b[0m     \u001b[0msumar_final\u001b[0m \u001b[1;33m=\u001b[0m \u001b[0ma\u001b[0m \u001b[1;33m+\u001b[0m \u001b[0mb\u001b[0m\u001b[1;33m\u001b[0m\u001b[1;33m\u001b[0m\u001b[0m\n\u001b[1;32m----> 3\u001b[1;33m     \u001b[1;32mreturn\u001b[0m \u001b[0msuma_final\u001b[0m\u001b[1;33m\u001b[0m\u001b[1;33m\u001b[0m\u001b[0m\n\u001b[0m",
      "\u001b[1;31mNameError\u001b[0m: name 'suma_final' is not defined"
     ]
    }
   ],
   "source": [
    "sumar_numeros(10, 5 )"
   ]
  },
  {
   "cell_type": "code",
   "execution_count": 13,
   "id": "3df81c9b",
   "metadata": {},
   "outputs": [
    {
     "data": {
      "text/plain": [
       "15"
      ]
     },
     "execution_count": 13,
     "metadata": {},
     "output_type": "execute_result"
    }
   ],
   "source": [
    "sumar_numeros(10, 5 )\n"
   ]
  },
  {
   "cell_type": "code",
   "execution_count": 14,
   "id": "0c6117a4",
   "metadata": {},
   "outputs": [],
   "source": [
    "#modulos  modulos os \n",
    "import os "
   ]
  },
  {
   "cell_type": "code",
   "execution_count": 15,
   "id": "060704cf",
   "metadata": {},
   "outputs": [
    {
     "data": {
      "text/plain": [
       "'C:\\\\Users\\\\ASUS'"
      ]
     },
     "execution_count": 15,
     "metadata": {},
     "output_type": "execute_result"
    }
   ],
   "source": [
    "os.getcwd()"
   ]
  },
  {
   "cell_type": "code",
   "execution_count": 16,
   "id": "f377dd71",
   "metadata": {},
   "outputs": [
    {
     "data": {
      "text/plain": [
       "['.conda',\n",
       " '.condarc',\n",
       " '.continuum',\n",
       " '.dotnet',\n",
       " '.ipynb_checkpoints',\n",
       " '.ipython',\n",
       " '.jupyter',\n",
       " '.matplotlib',\n",
       " '.ms-ad',\n",
       " '.nuget',\n",
       " '.spyder-py3',\n",
       " '.thumbnails',\n",
       " '.VirtualBox',\n",
       " '3D Objects',\n",
       " 'Activad 11.ipynb',\n",
       " 'Actividad 11.ipynb',\n",
       " 'anaconda3',\n",
       " 'AppData',\n",
       " 'Configuración local',\n",
       " 'Contacts',\n",
       " 'Cookies',\n",
       " 'Datos de programa',\n",
       " 'Desktop',\n",
       " 'Desktop.sql',\n",
       " 'Documents',\n",
       " 'Downloads',\n",
       " 'Entorno de red',\n",
       " 'Favorites',\n",
       " 'Impresoras',\n",
       " 'IntelGraphicsProfiles',\n",
       " 'Jedi',\n",
       " 'Links',\n",
       " 'Menú Inicio',\n",
       " 'Mis documentos',\n",
       " 'Music',\n",
       " 'NTUSER.DAT',\n",
       " 'ntuser.dat.LOG1',\n",
       " 'ntuser.dat.LOG2',\n",
       " 'NTUSER.DAT{53b39e87-18c4-11ea-a811-000d3aa4692b}.TxR.0.regtrans-ms',\n",
       " 'NTUSER.DAT{53b39e87-18c4-11ea-a811-000d3aa4692b}.TxR.1.regtrans-ms',\n",
       " 'NTUSER.DAT{53b39e87-18c4-11ea-a811-000d3aa4692b}.TxR.2.regtrans-ms',\n",
       " 'NTUSER.DAT{53b39e87-18c4-11ea-a811-000d3aa4692b}.TxR.blf',\n",
       " 'NTUSER.DAT{53b39e88-18c4-11ea-a811-000d3aa4692b}.TM.blf',\n",
       " 'NTUSER.DAT{53b39e88-18c4-11ea-a811-000d3aa4692b}.TMContainer00000000000000000001.regtrans-ms',\n",
       " 'NTUSER.DAT{53b39e88-18c4-11ea-a811-000d3aa4692b}.TMContainer00000000000000000002.regtrans-ms',\n",
       " 'ntuser.ini',\n",
       " 'OneDrive',\n",
       " 'Pictures',\n",
       " 'Plantillas',\n",
       " 'Reciente',\n",
       " 'Saved Games',\n",
       " 'Searches',\n",
       " 'SendTo',\n",
       " 'source',\n",
       " 'Untitled.ipynb',\n",
       " 'untitled.txt',\n",
       " 'Videos',\n",
       " 'VirtualBox VMs']"
      ]
     },
     "execution_count": 16,
     "metadata": {},
     "output_type": "execute_result"
    }
   ],
   "source": [
    "os.listdir()"
   ]
  },
  {
   "cell_type": "code",
   "execution_count": 17,
   "id": "c0799263",
   "metadata": {},
   "outputs": [],
   "source": [
    "os.makedirs(\"Nueva Carpeta\")"
   ]
  },
  {
   "cell_type": "code",
   "execution_count": 18,
   "id": "021d1c24",
   "metadata": {
    "scrolled": true
   },
   "outputs": [
    {
     "data": {
      "text/plain": [
       "['.conda',\n",
       " '.condarc',\n",
       " '.continuum',\n",
       " '.dotnet',\n",
       " '.ipynb_checkpoints',\n",
       " '.ipython',\n",
       " '.jupyter',\n",
       " '.matplotlib',\n",
       " '.ms-ad',\n",
       " '.nuget',\n",
       " '.spyder-py3',\n",
       " '.thumbnails',\n",
       " '.VirtualBox',\n",
       " '3D Objects',\n",
       " 'Activad 11.ipynb',\n",
       " 'Actividad 11.ipynb',\n",
       " 'anaconda3',\n",
       " 'AppData',\n",
       " 'Configuración local',\n",
       " 'Contacts',\n",
       " 'Cookies',\n",
       " 'Datos de programa',\n",
       " 'Desktop',\n",
       " 'Desktop.sql',\n",
       " 'Documents',\n",
       " 'Downloads',\n",
       " 'Entorno de red',\n",
       " 'Favorites',\n",
       " 'Impresoras',\n",
       " 'IntelGraphicsProfiles',\n",
       " 'Jedi',\n",
       " 'Links',\n",
       " 'Menú Inicio',\n",
       " 'Mis documentos',\n",
       " 'Music',\n",
       " 'NTUSER.DAT',\n",
       " 'ntuser.dat.LOG1',\n",
       " 'ntuser.dat.LOG2',\n",
       " 'NTUSER.DAT{53b39e87-18c4-11ea-a811-000d3aa4692b}.TxR.0.regtrans-ms',\n",
       " 'NTUSER.DAT{53b39e87-18c4-11ea-a811-000d3aa4692b}.TxR.1.regtrans-ms',\n",
       " 'NTUSER.DAT{53b39e87-18c4-11ea-a811-000d3aa4692b}.TxR.2.regtrans-ms',\n",
       " 'NTUSER.DAT{53b39e87-18c4-11ea-a811-000d3aa4692b}.TxR.blf',\n",
       " 'NTUSER.DAT{53b39e88-18c4-11ea-a811-000d3aa4692b}.TM.blf',\n",
       " 'NTUSER.DAT{53b39e88-18c4-11ea-a811-000d3aa4692b}.TMContainer00000000000000000001.regtrans-ms',\n",
       " 'NTUSER.DAT{53b39e88-18c4-11ea-a811-000d3aa4692b}.TMContainer00000000000000000002.regtrans-ms',\n",
       " 'ntuser.ini',\n",
       " 'Nueva Carpeta',\n",
       " 'OneDrive',\n",
       " 'Pictures',\n",
       " 'Plantillas',\n",
       " 'Reciente',\n",
       " 'Saved Games',\n",
       " 'Searches',\n",
       " 'SendTo',\n",
       " 'source',\n",
       " 'Untitled.ipynb',\n",
       " 'untitled.txt',\n",
       " 'Videos',\n",
       " 'VirtualBox VMs']"
      ]
     },
     "execution_count": 18,
     "metadata": {},
     "output_type": "execute_result"
    }
   ],
   "source": [
    "os.listdir()"
   ]
  },
  {
   "cell_type": "code",
   "execution_count": null,
   "id": "901f5a77",
   "metadata": {},
   "outputs": [],
   "source": []
  }
 ],
 "metadata": {
  "kernelspec": {
   "display_name": "Python 3 (ipykernel)",
   "language": "python",
   "name": "python3"
  },
  "language_info": {
   "codemirror_mode": {
    "name": "ipython",
    "version": 3
   },
   "file_extension": ".py",
   "mimetype": "text/x-python",
   "name": "python",
   "nbconvert_exporter": "python",
   "pygments_lexer": "ipython3",
   "version": "3.9.13"
  }
 },
 "nbformat": 4,
 "nbformat_minor": 5
}
